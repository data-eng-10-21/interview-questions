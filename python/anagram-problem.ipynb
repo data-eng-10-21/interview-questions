{
 "cells": [
  {
   "cell_type": "markdown",
   "id": "7ef9ede1-fd9a-4d03-bb47-dd65dd2cc1e0",
   "metadata": {},
   "source": [
    "# The Anagram Problem"
   ]
  },
  {
   "cell_type": "markdown",
   "id": "4b9a88aa-3d92-4966-9c96-531434d3b408",
   "metadata": {},
   "source": [
    "Write a function to check whether two given strings are anagram of each other or not. An anagram of a string is another string that contains the same characters, only the order of characters can be different. For example, “abcd” and “dabc” are an anagram of each other."
   ]
  },
  {
   "cell_type": "markdown",
   "id": "674911d5-8604-4a70-8e5a-675333105989",
   "metadata": {},
   "source": [
    "We'll give you a list of words -- like a Webster's dictionary -- and we would like an program that given a new word will tell us all anagrams of that word."
   ]
  },
  {
   "cell_type": "markdown",
   "id": "a7bae66e-0cbc-44d4-97b8-4982f8252736",
   "metadata": {},
   "source": [
    "For example:"
   ]
  },
  {
   "cell_type": "markdown",
   "id": "486bbe06-464f-4f0c-abdf-146a69d6b490",
   "metadata": {},
   "source": [
    "> Given a dictionary "
   ]
  },
  {
   "cell_type": "code",
   "execution_count": 1,
   "id": "622bbf8e-a10c-4301-beed-0c09716cbe95",
   "metadata": {},
   "outputs": [],
   "source": [
    "dictionary = ['god', 'dog', 'silent', 'integral', 'listen' , 'triangle', 'restful', 'fluster', 'santa', 'satan']"
   ]
  },
  {
   "cell_type": "markdown",
   "id": "68dafbc3-908f-4b4b-84d8-70df947a24f5",
   "metadata": {},
   "source": [
    "And a target word of `'dog'`, our anagrams function should return `dog` and `god`."
   ]
  },
  {
   "cell_type": "code",
   "execution_count": 2,
   "id": "17851b45-16ff-43ad-943e-38bb850beb4b",
   "metadata": {},
   "outputs": [],
   "source": [
    "def anagrams(target_word, dictionary):\n",
    "    pass"
   ]
  },
  {
   "cell_type": "code",
   "execution_count": null,
   "id": "7eed93de-7641-4e47-962c-908fccc7f70a",
   "metadata": {},
   "outputs": [],
   "source": []
  }
 ],
 "metadata": {
  "kernelspec": {
   "display_name": "Python 3 (ipykernel)",
   "language": "python",
   "name": "python3"
  },
  "language_info": {
   "codemirror_mode": {
    "name": "ipython",
    "version": 3
   },
   "file_extension": ".py",
   "mimetype": "text/x-python",
   "name": "python",
   "nbconvert_exporter": "python",
   "pygments_lexer": "ipython3",
   "version": "3.9.10"
  }
 },
 "nbformat": 4,
 "nbformat_minor": 5
}
