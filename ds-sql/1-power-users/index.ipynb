{
 "cells": [
  {
   "cell_type": "markdown",
   "id": "36e0ca56-4369-41ee-991e-2a17310c60d7",
   "metadata": {},
   "source": [
    "# Power Users"
   ]
  },
  {
   "cell_type": "markdown",
   "id": "f735fe70-6dd8-4d24-ad2c-bedfe91ca2e5",
   "metadata": {},
   "source": [
    "We define as power users those users who bought at least 10 products. Write a query that returns for each user on which day they became a power user. That is, for each user, on which day they bought the 10th item.\n",
    "\n",
    "The table below represents transactions. That is, each row means that the corresponding user has bought something on that date."
   ]
  },
  {
   "cell_type": "code",
   "execution_count": 1,
   "id": "8546404a-17f2-4cbe-b9cf-ca9374a78405",
   "metadata": {},
   "outputs": [],
   "source": [
    "import pandas as pd\n",
    "url = 'https://raw.githubusercontent.com/data-eng-10-21/interview-questions/main/ds-sql/1-power-users/query_three.csv'\n",
    "df = pd.read_csv(url, index_col = 0)"
   ]
  },
  {
   "cell_type": "code",
   "execution_count": 2,
   "id": "2cb5decf-ff7d-4b90-9d88-d5a4effca9d2",
   "metadata": {},
   "outputs": [],
   "source": [
    "import sqlite3\n",
    "\n",
    "conn = sqlite3.connect('power_users.db')"
   ]
  },
  {
   "cell_type": "code",
   "execution_count": 3,
   "id": "86a778ad-c26c-4695-b7cb-74438cd06946",
   "metadata": {},
   "outputs": [],
   "source": [
    "df.to_sql('users', conn, if_exists = 'replace')"
   ]
  },
  {
   "cell_type": "code",
   "execution_count": 4,
   "id": "ba4b0a01-b8c9-45cc-82f7-0a9a0540d44f",
   "metadata": {},
   "outputs": [
    {
     "data": {
      "text/html": [
       "<div>\n",
       "<style scoped>\n",
       "    .dataframe tbody tr th:only-of-type {\n",
       "        vertical-align: middle;\n",
       "    }\n",
       "\n",
       "    .dataframe tbody tr th {\n",
       "        vertical-align: top;\n",
       "    }\n",
       "\n",
       "    .dataframe thead th {\n",
       "        text-align: right;\n",
       "    }\n",
       "</style>\n",
       "<table border=\"1\" class=\"dataframe\">\n",
       "  <thead>\n",
       "    <tr style=\"text-align: right;\">\n",
       "      <th></th>\n",
       "      <th>user_id</th>\n",
       "      <th>date</th>\n",
       "    </tr>\n",
       "  </thead>\n",
       "  <tbody>\n",
       "    <tr>\n",
       "      <th>0</th>\n",
       "      <td>675</td>\n",
       "      <td>2014-12-31 16:16:12</td>\n",
       "    </tr>\n",
       "    <tr>\n",
       "      <th>1</th>\n",
       "      <td>1967</td>\n",
       "      <td>2014-12-31 16:37:57</td>\n",
       "    </tr>\n",
       "    <tr>\n",
       "      <th>2</th>\n",
       "      <td>57</td>\n",
       "      <td>2014-12-31 17:05:32</td>\n",
       "    </tr>\n",
       "    <tr>\n",
       "      <th>3</th>\n",
       "      <td>1532</td>\n",
       "      <td>2014-12-31 17:26:25</td>\n",
       "    </tr>\n",
       "    <tr>\n",
       "      <th>4</th>\n",
       "      <td>1831</td>\n",
       "      <td>2014-12-31 18:20:54</td>\n",
       "    </tr>\n",
       "    <tr>\n",
       "      <th>...</th>\n",
       "      <td>...</td>\n",
       "      <td>...</td>\n",
       "    </tr>\n",
       "    <tr>\n",
       "      <th>19995</th>\n",
       "      <td>1656</td>\n",
       "      <td>2015-12-30 13:18:16</td>\n",
       "    </tr>\n",
       "    <tr>\n",
       "      <th>19996</th>\n",
       "      <td>381</td>\n",
       "      <td>2015-12-30 14:31:49</td>\n",
       "    </tr>\n",
       "    <tr>\n",
       "      <th>19997</th>\n",
       "      <td>1891</td>\n",
       "      <td>2015-12-30 15:10:35</td>\n",
       "    </tr>\n",
       "    <tr>\n",
       "      <th>19998</th>\n",
       "      <td>977</td>\n",
       "      <td>2015-12-30 15:30:15</td>\n",
       "    </tr>\n",
       "    <tr>\n",
       "      <th>19999</th>\n",
       "      <td>1076</td>\n",
       "      <td>2015-12-30 15:59:38</td>\n",
       "    </tr>\n",
       "  </tbody>\n",
       "</table>\n",
       "<p>20000 rows × 2 columns</p>\n",
       "</div>"
      ],
      "text/plain": [
       "       user_id                 date\n",
       "0          675  2014-12-31 16:16:12\n",
       "1         1967  2014-12-31 16:37:57\n",
       "2           57  2014-12-31 17:05:32\n",
       "3         1532  2014-12-31 17:26:25\n",
       "4         1831  2014-12-31 18:20:54\n",
       "...        ...                  ...\n",
       "19995     1656  2015-12-30 13:18:16\n",
       "19996      381  2015-12-30 14:31:49\n",
       "19997     1891  2015-12-30 15:10:35\n",
       "19998      977  2015-12-30 15:30:15\n",
       "19999     1076  2015-12-30 15:59:38\n",
       "\n",
       "[20000 rows x 2 columns]"
      ]
     },
     "execution_count": 4,
     "metadata": {},
     "output_type": "execute_result"
    }
   ],
   "source": [
    "pd.read_sql('select * from users', conn)"
   ]
  },
  {
   "cell_type": "code",
   "execution_count": 32,
   "id": "8b07bafe-a9ad-4e8f-bd85-0ac6c12298ea",
   "metadata": {},
   "outputs": [
    {
     "data": {
      "text/html": [
       "<div>\n",
       "<style scoped>\n",
       "    .dataframe tbody tr th:only-of-type {\n",
       "        vertical-align: middle;\n",
       "    }\n",
       "\n",
       "    .dataframe tbody tr th {\n",
       "        vertical-align: top;\n",
       "    }\n",
       "\n",
       "    .dataframe thead th {\n",
       "        text-align: right;\n",
       "    }\n",
       "</style>\n",
       "<table border=\"1\" class=\"dataframe\">\n",
       "  <thead>\n",
       "    <tr style=\"text-align: right;\">\n",
       "      <th></th>\n",
       "      <th>user_id</th>\n",
       "      <th>date</th>\n",
       "      <th>num_purchases</th>\n",
       "    </tr>\n",
       "  </thead>\n",
       "  <tbody>\n",
       "    <tr>\n",
       "      <th>0</th>\n",
       "      <td>1</td>\n",
       "      <td>2015-10-21 06:20:14</td>\n",
       "      <td>10</td>\n",
       "    </tr>\n",
       "    <tr>\n",
       "      <th>1</th>\n",
       "      <td>3</td>\n",
       "      <td>2015-10-29 22:41:00</td>\n",
       "      <td>10</td>\n",
       "    </tr>\n",
       "    <tr>\n",
       "      <th>2</th>\n",
       "      <td>4</td>\n",
       "      <td>2015-09-25 12:36:10</td>\n",
       "      <td>10</td>\n",
       "    </tr>\n",
       "    <tr>\n",
       "      <th>3</th>\n",
       "      <td>5</td>\n",
       "      <td>2015-09-18 06:25:40</td>\n",
       "      <td>10</td>\n",
       "    </tr>\n",
       "    <tr>\n",
       "      <th>4</th>\n",
       "      <td>6</td>\n",
       "      <td>2015-12-30 00:53:59</td>\n",
       "      <td>10</td>\n",
       "    </tr>\n",
       "    <tr>\n",
       "      <th>...</th>\n",
       "      <td>...</td>\n",
       "      <td>...</td>\n",
       "      <td>...</td>\n",
       "    </tr>\n",
       "    <tr>\n",
       "      <th>1093</th>\n",
       "      <td>1993</td>\n",
       "      <td>2015-10-11 11:14:38</td>\n",
       "      <td>10</td>\n",
       "    </tr>\n",
       "    <tr>\n",
       "      <th>1094</th>\n",
       "      <td>1994</td>\n",
       "      <td>2015-11-02 04:40:47</td>\n",
       "      <td>10</td>\n",
       "    </tr>\n",
       "    <tr>\n",
       "      <th>1095</th>\n",
       "      <td>1997</td>\n",
       "      <td>2015-10-15 22:43:31</td>\n",
       "      <td>10</td>\n",
       "    </tr>\n",
       "    <tr>\n",
       "      <th>1096</th>\n",
       "      <td>1998</td>\n",
       "      <td>2015-07-27 01:50:04</td>\n",
       "      <td>10</td>\n",
       "    </tr>\n",
       "    <tr>\n",
       "      <th>1097</th>\n",
       "      <td>1999</td>\n",
       "      <td>2015-10-18 15:27:42</td>\n",
       "      <td>10</td>\n",
       "    </tr>\n",
       "  </tbody>\n",
       "</table>\n",
       "<p>1098 rows × 3 columns</p>\n",
       "</div>"
      ],
      "text/plain": [
       "      user_id                 date  num_purchases\n",
       "0           1  2015-10-21 06:20:14             10\n",
       "1           3  2015-10-29 22:41:00             10\n",
       "2           4  2015-09-25 12:36:10             10\n",
       "3           5  2015-09-18 06:25:40             10\n",
       "4           6  2015-12-30 00:53:59             10\n",
       "...       ...                  ...            ...\n",
       "1093     1993  2015-10-11 11:14:38             10\n",
       "1094     1994  2015-11-02 04:40:47             10\n",
       "1095     1997  2015-10-15 22:43:31             10\n",
       "1096     1998  2015-07-27 01:50:04             10\n",
       "1097     1999  2015-10-18 15:27:42             10\n",
       "\n",
       "[1098 rows x 3 columns]"
      ]
     },
     "execution_count": 32,
     "metadata": {},
     "output_type": "execute_result"
    }
   ],
   "source": [
    "pd.read_sql(\"\"\"select * from (select user_id, date, \n",
    "count(user_id) over( partition by user_id order by date) num_purchases\n",
    "from users) as user_purchases where user_purchases.num_purchases = 10\n",
    "\"\"\", conn)"
   ]
  },
  {
   "cell_type": "markdown",
   "id": "0aaa4e99-82ce-45f0-a3bf-336d40b7e730",
   "metadata": {},
   "source": [
    "### Answer"
   ]
  },
  {
   "cell_type": "markdown",
   "id": "c4fc55e8-4d73-496e-98ce-9810a6091208",
   "metadata": {},
   "source": [
    "<img src=\"./user-date.png\" width=\"40%\">"
   ]
  }
 ],
 "metadata": {
  "kernelspec": {
   "display_name": "Python 3 (ipykernel)",
   "language": "python",
   "name": "python3"
  },
  "language_info": {
   "codemirror_mode": {
    "name": "ipython",
    "version": 3
   },
   "file_extension": ".py",
   "mimetype": "text/x-python",
   "name": "python",
   "nbconvert_exporter": "python",
   "pygments_lexer": "ipython3",
   "version": "3.9.7"
  }
 },
 "nbformat": 4,
 "nbformat_minor": 5
}
