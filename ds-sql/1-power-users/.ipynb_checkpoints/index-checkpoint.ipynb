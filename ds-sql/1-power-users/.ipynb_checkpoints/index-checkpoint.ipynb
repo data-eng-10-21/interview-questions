{
 "cells": [
  {
   "cell_type": "markdown",
   "id": "36e0ca56-4369-41ee-991e-2a17310c60d7",
   "metadata": {},
   "source": [
    "# Power Users"
   ]
  },
  {
   "cell_type": "markdown",
   "id": "f735fe70-6dd8-4d24-ad2c-bedfe91ca2e5",
   "metadata": {},
   "source": [
    "We define as power users those users who bought at least 10 products. Write a query that returns for each user on which day they became a power user. That is, for each user, on which day they bought the 10th item.\n",
    "\n",
    "The table below represents transactions. That is, each row means that the corresponding user has bought something on that date."
   ]
  },
  {
   "cell_type": "code",
   "execution_count": 1,
   "id": "8546404a-17f2-4cbe-b9cf-ca9374a78405",
   "metadata": {},
   "outputs": [],
   "source": [
    "import pandas as pd\n",
    "url = 'https://raw.githubusercontent.com/data-eng-10-21/interview-questions/main/ds-sql/1-power-users/query_three.csv'\n",
    "df = pd.read_csv(url, index_col = 0)"
   ]
  },
  {
   "cell_type": "code",
   "execution_count": 2,
   "id": "2cb5decf-ff7d-4b90-9d88-d5a4effca9d2",
   "metadata": {},
   "outputs": [],
   "source": [
    "import sqlite3\n",
    "\n",
    "conn = sqlite3.connect('power_users.db')"
   ]
  },
  {
   "cell_type": "code",
   "execution_count": 3,
   "id": "86a778ad-c26c-4695-b7cb-74438cd06946",
   "metadata": {},
   "outputs": [],
   "source": [
    "df.to_sql('users', conn, if_exists = 'replace')"
   ]
  },
  {
   "cell_type": "code",
   "execution_count": 4,
   "id": "ba4b0a01-b8c9-45cc-82f7-0a9a0540d44f",
   "metadata": {},
   "outputs": [
    {
     "data": {
      "text/html": [
       "<div>\n",
       "<style scoped>\n",
       "    .dataframe tbody tr th:only-of-type {\n",
       "        vertical-align: middle;\n",
       "    }\n",
       "\n",
       "    .dataframe tbody tr th {\n",
       "        vertical-align: top;\n",
       "    }\n",
       "\n",
       "    .dataframe thead th {\n",
       "        text-align: right;\n",
       "    }\n",
       "</style>\n",
       "<table border=\"1\" class=\"dataframe\">\n",
       "  <thead>\n",
       "    <tr style=\"text-align: right;\">\n",
       "      <th></th>\n",
       "      <th>user_id</th>\n",
       "      <th>date</th>\n",
       "    </tr>\n",
       "  </thead>\n",
       "  <tbody>\n",
       "    <tr>\n",
       "      <th>0</th>\n",
       "      <td>675</td>\n",
       "      <td>2014-12-31 16:16:12</td>\n",
       "    </tr>\n",
       "    <tr>\n",
       "      <th>1</th>\n",
       "      <td>1967</td>\n",
       "      <td>2014-12-31 16:37:57</td>\n",
       "    </tr>\n",
       "    <tr>\n",
       "      <th>2</th>\n",
       "      <td>57</td>\n",
       "      <td>2014-12-31 17:05:32</td>\n",
       "    </tr>\n",
       "    <tr>\n",
       "      <th>3</th>\n",
       "      <td>1532</td>\n",
       "      <td>2014-12-31 17:26:25</td>\n",
       "    </tr>\n",
       "    <tr>\n",
       "      <th>4</th>\n",
       "      <td>1831</td>\n",
       "      <td>2014-12-31 18:20:54</td>\n",
       "    </tr>\n",
       "    <tr>\n",
       "      <th>...</th>\n",
       "      <td>...</td>\n",
       "      <td>...</td>\n",
       "    </tr>\n",
       "    <tr>\n",
       "      <th>19995</th>\n",
       "      <td>1656</td>\n",
       "      <td>2015-12-30 13:18:16</td>\n",
       "    </tr>\n",
       "    <tr>\n",
       "      <th>19996</th>\n",
       "      <td>381</td>\n",
       "      <td>2015-12-30 14:31:49</td>\n",
       "    </tr>\n",
       "    <tr>\n",
       "      <th>19997</th>\n",
       "      <td>1891</td>\n",
       "      <td>2015-12-30 15:10:35</td>\n",
       "    </tr>\n",
       "    <tr>\n",
       "      <th>19998</th>\n",
       "      <td>977</td>\n",
       "      <td>2015-12-30 15:30:15</td>\n",
       "    </tr>\n",
       "    <tr>\n",
       "      <th>19999</th>\n",
       "      <td>1076</td>\n",
       "      <td>2015-12-30 15:59:38</td>\n",
       "    </tr>\n",
       "  </tbody>\n",
       "</table>\n",
       "<p>20000 rows × 2 columns</p>\n",
       "</div>"
      ],
      "text/plain": [
       "       user_id                 date\n",
       "0          675  2014-12-31 16:16:12\n",
       "1         1967  2014-12-31 16:37:57\n",
       "2           57  2014-12-31 17:05:32\n",
       "3         1532  2014-12-31 17:26:25\n",
       "4         1831  2014-12-31 18:20:54\n",
       "...        ...                  ...\n",
       "19995     1656  2015-12-30 13:18:16\n",
       "19996      381  2015-12-30 14:31:49\n",
       "19997     1891  2015-12-30 15:10:35\n",
       "19998      977  2015-12-30 15:30:15\n",
       "19999     1076  2015-12-30 15:59:38\n",
       "\n",
       "[20000 rows x 2 columns]"
      ]
     },
     "execution_count": 4,
     "metadata": {},
     "output_type": "execute_result"
    }
   ],
   "source": [
    "pd.read_sql('select * from users', conn)"
   ]
  },
  {
   "cell_type": "code",
   "execution_count": 15,
   "id": "8b07bafe-a9ad-4e8f-bd85-0ac6c12298ea",
   "metadata": {},
   "outputs": [
    {
     "data": {
      "text/html": [
       "<div>\n",
       "<style scoped>\n",
       "    .dataframe tbody tr th:only-of-type {\n",
       "        vertical-align: middle;\n",
       "    }\n",
       "\n",
       "    .dataframe tbody tr th {\n",
       "        vertical-align: top;\n",
       "    }\n",
       "\n",
       "    .dataframe thead th {\n",
       "        text-align: right;\n",
       "    }\n",
       "</style>\n",
       "<table border=\"1\" class=\"dataframe\">\n",
       "  <thead>\n",
       "    <tr style=\"text-align: right;\">\n",
       "      <th></th>\n",
       "      <th>user_id</th>\n",
       "      <th>date</th>\n",
       "      <th>num_purchases</th>\n",
       "    </tr>\n",
       "  </thead>\n",
       "  <tbody>\n",
       "    <tr>\n",
       "      <th>0</th>\n",
       "      <td>1</td>\n",
       "      <td>2015-01-31 21:37:48</td>\n",
       "      <td>1</td>\n",
       "    </tr>\n",
       "    <tr>\n",
       "      <th>1</th>\n",
       "      <td>1</td>\n",
       "      <td>2015-02-27 02:53:09</td>\n",
       "      <td>2</td>\n",
       "    </tr>\n",
       "    <tr>\n",
       "      <th>2</th>\n",
       "      <td>1</td>\n",
       "      <td>2015-04-06 02:54:19</td>\n",
       "      <td>3</td>\n",
       "    </tr>\n",
       "    <tr>\n",
       "      <th>3</th>\n",
       "      <td>1</td>\n",
       "      <td>2015-04-15 05:30:11</td>\n",
       "      <td>4</td>\n",
       "    </tr>\n",
       "    <tr>\n",
       "      <th>4</th>\n",
       "      <td>1</td>\n",
       "      <td>2015-05-01 18:21:40</td>\n",
       "      <td>5</td>\n",
       "    </tr>\n",
       "    <tr>\n",
       "      <th>...</th>\n",
       "      <td>...</td>\n",
       "      <td>...</td>\n",
       "      <td>...</td>\n",
       "    </tr>\n",
       "    <tr>\n",
       "      <th>19995</th>\n",
       "      <td>2000</td>\n",
       "      <td>2015-03-07 18:57:02</td>\n",
       "      <td>1</td>\n",
       "    </tr>\n",
       "    <tr>\n",
       "      <th>19996</th>\n",
       "      <td>2000</td>\n",
       "      <td>2015-08-12 08:47:07</td>\n",
       "      <td>2</td>\n",
       "    </tr>\n",
       "    <tr>\n",
       "      <th>19997</th>\n",
       "      <td>2000</td>\n",
       "      <td>2015-09-15 23:14:38</td>\n",
       "      <td>3</td>\n",
       "    </tr>\n",
       "    <tr>\n",
       "      <th>19998</th>\n",
       "      <td>2000</td>\n",
       "      <td>2015-10-16 01:55:24</td>\n",
       "      <td>4</td>\n",
       "    </tr>\n",
       "    <tr>\n",
       "      <th>19999</th>\n",
       "      <td>2000</td>\n",
       "      <td>2015-12-26 20:10:23</td>\n",
       "      <td>5</td>\n",
       "    </tr>\n",
       "  </tbody>\n",
       "</table>\n",
       "<p>20000 rows × 3 columns</p>\n",
       "</div>"
      ],
      "text/plain": [
       "       user_id                 date  num_purchases\n",
       "0            1  2015-01-31 21:37:48              1\n",
       "1            1  2015-02-27 02:53:09              2\n",
       "2            1  2015-04-06 02:54:19              3\n",
       "3            1  2015-04-15 05:30:11              4\n",
       "4            1  2015-05-01 18:21:40              5\n",
       "...        ...                  ...            ...\n",
       "19995     2000  2015-03-07 18:57:02              1\n",
       "19996     2000  2015-08-12 08:47:07              2\n",
       "19997     2000  2015-09-15 23:14:38              3\n",
       "19998     2000  2015-10-16 01:55:24              4\n",
       "19999     2000  2015-12-26 20:10:23              5\n",
       "\n",
       "[20000 rows x 3 columns]"
      ]
     },
     "execution_count": 15,
     "metadata": {},
     "output_type": "execute_result"
    }
   ],
   "source": [
    "pd.read_sql(\"\"\" (select user_id, date, count(user_id) over (partition by user_id order by date) num_purchases from users)\n",
    "\"\"\", conn)"
   ]
  },
  {
   "cell_type": "markdown",
   "id": "0aaa4e99-82ce-45f0-a3bf-336d40b7e730",
   "metadata": {},
   "source": [
    "### Answer"
   ]
  },
  {
   "cell_type": "markdown",
   "id": "c4fc55e8-4d73-496e-98ce-9810a6091208",
   "metadata": {},
   "source": [
    "<img src=\"./user-date.png\" width=\"40%\">"
   ]
  }
 ],
 "metadata": {
  "kernelspec": {
   "display_name": "Python 3 (ipykernel)",
   "language": "python",
   "name": "python3"
  },
  "language_info": {
   "codemirror_mode": {
    "name": "ipython",
    "version": 3
   },
   "file_extension": ".py",
   "mimetype": "text/x-python",
   "name": "python",
   "nbconvert_exporter": "python",
   "pygments_lexer": "ipython3",
   "version": "3.9.7"
  }
 },
 "nbformat": 4,
 "nbformat_minor": 5
}
