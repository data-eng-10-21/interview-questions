{
 "cells": [
  {
   "cell_type": "markdown",
   "id": "22141a2f-e9d9-4091-987f-e783a2134ffb",
   "metadata": {},
   "source": [
    "# Total and Running Values"
   ]
  },
  {
   "cell_type": "markdown",
   "id": "629a595f-82a8-4a9a-a246-740fa65f7531",
   "metadata": {},
   "source": [
    "We have two tables. One table has all $ transactions from users during the month of March and one for the month of April.\n",
    "\n",
    "Write a query that returns the total amount of money spent by each user. That is, the sum of the column transaction_amount for each user over both tables.\n",
    "\n",
    "Write a query that returns day by day the cumulative sum of money spent by each user. That is, each day a user had a transcation, we should have how much money she has spent in total until that day. Obviously, the last day cumulative sum should match the numbers from the previous bullet point."
   ]
  },
  {
   "cell_type": "markdown",
   "id": "4bac9f7d-a416-443c-996a-5d69bab5f01b",
   "metadata": {},
   "source": [
    "<img src=\"./example-data.png\" width=\"100%\">"
   ]
  },
  {
   "cell_type": "code",
   "execution_count": 2,
   "id": "dbc633f2-8e30-4119-a1b5-5d002afe047e",
   "metadata": {},
   "outputs": [],
   "source": [
    "import pandas as pd\n",
    "march_txns = 'https://raw.githubusercontent.com/data-eng-10-21/interview-questions/main/ds-sql/3-total-and-running-values/query_four_march.csv'\n",
    "april_txns = 'https://raw.githubusercontent.com/data-eng-10-21/interview-questions/main/ds-sql/3-total-and-running-values/query_four_april.csv'\n",
    "march_txns = pd.read_csv(march_txns)\n",
    "april_txns = pd.read_csv(april_txns)"
   ]
  },
  {
   "cell_type": "code",
   "execution_count": 4,
   "id": "6776908a-8e8a-480e-b6a7-a2ccaf0feca0",
   "metadata": {},
   "outputs": [],
   "source": [
    "import sqlite3\n",
    "conn = sqlite3.connect('crm.db')"
   ]
  },
  {
   "cell_type": "code",
   "execution_count": 5,
   "id": "257ec206-93fc-4505-a961-96b48f980c2c",
   "metadata": {},
   "outputs": [
    {
     "data": {
      "text/plain": [
       "12000"
      ]
     },
     "execution_count": 5,
     "metadata": {},
     "output_type": "execute_result"
    }
   ],
   "source": [
    "march_txns.to_sql('march_txns', conn)\n",
    "april_txns.to_sql('april_txns', conn)"
   ]
  },
  {
   "cell_type": "code",
   "execution_count": 6,
   "id": "ff82b0e1-1ddb-4d75-bdc7-df53e5cb5c35",
   "metadata": {},
   "outputs": [
    {
     "data": {
      "text/html": [
       "<div>\n",
       "<style scoped>\n",
       "    .dataframe tbody tr th:only-of-type {\n",
       "        vertical-align: middle;\n",
       "    }\n",
       "\n",
       "    .dataframe tbody tr th {\n",
       "        vertical-align: top;\n",
       "    }\n",
       "\n",
       "    .dataframe thead th {\n",
       "        text-align: right;\n",
       "    }\n",
       "</style>\n",
       "<table border=\"1\" class=\"dataframe\">\n",
       "  <thead>\n",
       "    <tr style=\"text-align: right;\">\n",
       "      <th></th>\n",
       "      <th>index</th>\n",
       "      <th>user_id</th>\n",
       "      <th>date</th>\n",
       "      <th>transaction_amount</th>\n",
       "    </tr>\n",
       "  </thead>\n",
       "  <tbody>\n",
       "    <tr>\n",
       "      <th>0</th>\n",
       "      <td>0</td>\n",
       "      <td>13399</td>\n",
       "      <td>2015-03-01</td>\n",
       "      <td>18</td>\n",
       "    </tr>\n",
       "    <tr>\n",
       "      <th>1</th>\n",
       "      <td>1</td>\n",
       "      <td>11934</td>\n",
       "      <td>2015-03-01</td>\n",
       "      <td>63</td>\n",
       "    </tr>\n",
       "    <tr>\n",
       "      <th>2</th>\n",
       "      <td>2</td>\n",
       "      <td>3542</td>\n",
       "      <td>2015-03-01</td>\n",
       "      <td>14</td>\n",
       "    </tr>\n",
       "  </tbody>\n",
       "</table>\n",
       "</div>"
      ],
      "text/plain": [
       "   index  user_id        date  transaction_amount\n",
       "0      0    13399  2015-03-01                  18\n",
       "1      1    11934  2015-03-01                  63\n",
       "2      2     3542  2015-03-01                  14"
      ]
     },
     "execution_count": 6,
     "metadata": {},
     "output_type": "execute_result"
    }
   ],
   "source": [
    "pd.read_sql('select * from march_txns', conn)[:3]"
   ]
  },
  {
   "cell_type": "code",
   "execution_count": 7,
   "id": "607b6450-b70f-403f-9a18-5fe160b05bc3",
   "metadata": {},
   "outputs": [
    {
     "data": {
      "text/html": [
       "<div>\n",
       "<style scoped>\n",
       "    .dataframe tbody tr th:only-of-type {\n",
       "        vertical-align: middle;\n",
       "    }\n",
       "\n",
       "    .dataframe tbody tr th {\n",
       "        vertical-align: top;\n",
       "    }\n",
       "\n",
       "    .dataframe thead th {\n",
       "        text-align: right;\n",
       "    }\n",
       "</style>\n",
       "<table border=\"1\" class=\"dataframe\">\n",
       "  <thead>\n",
       "    <tr style=\"text-align: right;\">\n",
       "      <th></th>\n",
       "      <th>index</th>\n",
       "      <th>user_id</th>\n",
       "      <th>date</th>\n",
       "      <th>transaction_amount</th>\n",
       "    </tr>\n",
       "  </thead>\n",
       "  <tbody>\n",
       "    <tr>\n",
       "      <th>0</th>\n",
       "      <td>0</td>\n",
       "      <td>15895</td>\n",
       "      <td>2015-04-01</td>\n",
       "      <td>66</td>\n",
       "    </tr>\n",
       "    <tr>\n",
       "      <th>1</th>\n",
       "      <td>1</td>\n",
       "      <td>271</td>\n",
       "      <td>2015-04-01</td>\n",
       "      <td>55</td>\n",
       "    </tr>\n",
       "    <tr>\n",
       "      <th>2</th>\n",
       "      <td>2</td>\n",
       "      <td>4677</td>\n",
       "      <td>2015-04-01</td>\n",
       "      <td>73</td>\n",
       "    </tr>\n",
       "  </tbody>\n",
       "</table>\n",
       "</div>"
      ],
      "text/plain": [
       "   index  user_id        date  transaction_amount\n",
       "0      0    15895  2015-04-01                  66\n",
       "1      1      271  2015-04-01                  55\n",
       "2      2     4677  2015-04-01                  73"
      ]
     },
     "execution_count": 7,
     "metadata": {},
     "output_type": "execute_result"
    }
   ],
   "source": [
    "pd.read_sql('select * from april_txns', conn)[:3]"
   ]
  },
  {
   "cell_type": "markdown",
   "id": "dffd5433-c667-4087-8ce1-9f24140c229e",
   "metadata": {},
   "source": [
    "### Answer"
   ]
  },
  {
   "cell_type": "markdown",
   "id": "deb732f0-41d2-4032-b265-25e958848913",
   "metadata": {},
   "source": [
    "<img src=\"./total.png\" width=\"40%\">"
   ]
  },
  {
   "cell_type": "markdown",
   "id": "7eff7ca6-ab71-4940-8fef-02a0deaf243f",
   "metadata": {},
   "source": [
    "Or "
   ]
  },
  {
   "cell_type": "markdown",
   "id": "574eed45-1566-4cc7-8785-6998ef4ad7ce",
   "metadata": {},
   "source": [
    "<img src=\"./alt.png\">"
   ]
  },
  {
   "cell_type": "code",
   "execution_count": null,
   "id": "496cbe93-eb6b-4a0c-a8d6-f703de5eda0f",
   "metadata": {},
   "outputs": [],
   "source": []
  }
 ],
 "metadata": {
  "kernelspec": {
   "display_name": "Python 3 (ipykernel)",
   "language": "python",
   "name": "python3"
  },
  "language_info": {
   "codemirror_mode": {
    "name": "ipython",
    "version": 3
   },
   "file_extension": ".py",
   "mimetype": "text/x-python",
   "name": "python",
   "nbconvert_exporter": "python",
   "pygments_lexer": "ipython3",
   "version": "3.9.10"
  }
 },
 "nbformat": 4,
 "nbformat_minor": 5
}
