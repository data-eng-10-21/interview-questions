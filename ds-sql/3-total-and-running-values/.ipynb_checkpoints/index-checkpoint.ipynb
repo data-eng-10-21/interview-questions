{
 "cells": [
  {
   "cell_type": "markdown",
   "id": "22141a2f-e9d9-4091-987f-e783a2134ffb",
   "metadata": {},
   "source": [
    "# Total and Running Values"
   ]
  },
  {
   "cell_type": "markdown",
   "id": "629a595f-82a8-4a9a-a246-740fa65f7531",
   "metadata": {},
   "source": [
    "We have two tables. One table has all $ transactions from users during the month of March and one for the month of April.\n",
    "\n",
    "Write a query that returns the total amount of money spent by each user. That is, the sum of the column transaction_amount for each user over both tables.\n",
    "\n",
    "Write a query that returns day by day the cumulative sum of money spent by each user. That is, each day a user had a transcation, we should have how much money she has spent in total until that day. Obviously, the last day cumulative sum should match the numbers from the previous bullet point."
   ]
  },
  {
   "cell_type": "markdown",
   "id": "4bac9f7d-a416-443c-996a-5d69bab5f01b",
   "metadata": {},
   "source": [
    "<img src=\"./example-data.png\" width=\"100%\">"
   ]
  },
  {
   "cell_type": "code",
   "execution_count": 1,
   "id": "dbc633f2-8e30-4119-a1b5-5d002afe047e",
   "metadata": {},
   "outputs": [],
   "source": [
    "import pandas as pd\n",
    "txns_url = 'https://raw.githubusercontent.com/data-eng-10-21/interview-questions/main/ds-sql/3-total-and-running-values/query_five_transactions.csv'\n",
    "users_url = 'https://raw.githubusercontent.com/data-eng-10-21/interview-questions/main/ds-sql/3-total-and-running-values/query_five_users.csv'\n",
    "transactions_df = pd.read_csv(txns_url)\n",
    "users_df = pd.read_csv(users_url)"
   ]
  },
  {
   "cell_type": "code",
   "execution_count": 11,
   "id": "6776908a-8e8a-480e-b6a7-a2ccaf0feca0",
   "metadata": {},
   "outputs": [],
   "source": [
    "import sqlite3\n",
    "conn = sqlite3.connect('crm.db')"
   ]
  },
  {
   "cell_type": "code",
   "execution_count": 12,
   "id": "257ec206-93fc-4505-a961-96b48f980c2c",
   "metadata": {},
   "outputs": [
    {
     "data": {
      "text/plain": [
       "1982"
      ]
     },
     "execution_count": 12,
     "metadata": {},
     "output_type": "execute_result"
    }
   ],
   "source": [
    "transactions_df.to_sql('transactions', conn)\n",
    "users_df.to_sql('users', conn)"
   ]
  },
  {
   "cell_type": "code",
   "execution_count": 13,
   "id": "ff82b0e1-1ddb-4d75-bdc7-df53e5cb5c35",
   "metadata": {},
   "outputs": [
    {
     "data": {
      "text/html": [
       "<div>\n",
       "<style scoped>\n",
       "    .dataframe tbody tr th:only-of-type {\n",
       "        vertical-align: middle;\n",
       "    }\n",
       "\n",
       "    .dataframe tbody tr th {\n",
       "        vertical-align: top;\n",
       "    }\n",
       "\n",
       "    .dataframe thead th {\n",
       "        text-align: right;\n",
       "    }\n",
       "</style>\n",
       "<table border=\"1\" class=\"dataframe\">\n",
       "  <thead>\n",
       "    <tr style=\"text-align: right;\">\n",
       "      <th></th>\n",
       "      <th>index</th>\n",
       "      <th>user_id</th>\n",
       "      <th>sign_up_date</th>\n",
       "    </tr>\n",
       "  </thead>\n",
       "  <tbody>\n",
       "    <tr>\n",
       "      <th>0</th>\n",
       "      <td>0</td>\n",
       "      <td>121</td>\n",
       "      <td>2015-01-02</td>\n",
       "    </tr>\n",
       "    <tr>\n",
       "      <th>1</th>\n",
       "      <td>1</td>\n",
       "      <td>617</td>\n",
       "      <td>2015-01-02</td>\n",
       "    </tr>\n",
       "    <tr>\n",
       "      <th>2</th>\n",
       "      <td>2</td>\n",
       "      <td>619</td>\n",
       "      <td>2015-01-02</td>\n",
       "    </tr>\n",
       "  </tbody>\n",
       "</table>\n",
       "</div>"
      ],
      "text/plain": [
       "   index  user_id sign_up_date\n",
       "0      0      121   2015-01-02\n",
       "1      1      617   2015-01-02\n",
       "2      2      619   2015-01-02"
      ]
     },
     "execution_count": 13,
     "metadata": {},
     "output_type": "execute_result"
    }
   ],
   "source": [
    "pd.read_sql('select * from users', conn)[:3]"
   ]
  },
  {
   "cell_type": "code",
   "execution_count": 15,
   "id": "607b6450-b70f-403f-9a18-5fe160b05bc3",
   "metadata": {},
   "outputs": [
    {
     "data": {
      "text/html": [
       "<div>\n",
       "<style scoped>\n",
       "    .dataframe tbody tr th:only-of-type {\n",
       "        vertical-align: middle;\n",
       "    }\n",
       "\n",
       "    .dataframe tbody tr th {\n",
       "        vertical-align: top;\n",
       "    }\n",
       "\n",
       "    .dataframe thead th {\n",
       "        text-align: right;\n",
       "    }\n",
       "</style>\n",
       "<table border=\"1\" class=\"dataframe\">\n",
       "  <thead>\n",
       "    <tr style=\"text-align: right;\">\n",
       "      <th></th>\n",
       "      <th>index</th>\n",
       "      <th>user_id</th>\n",
       "      <th>transaction_date</th>\n",
       "      <th>transaction_amount</th>\n",
       "    </tr>\n",
       "  </thead>\n",
       "  <tbody>\n",
       "    <tr>\n",
       "      <th>0</th>\n",
       "      <td>0</td>\n",
       "      <td>856898</td>\n",
       "      <td>2015-08-02 03:56:08</td>\n",
       "      <td>49</td>\n",
       "    </tr>\n",
       "    <tr>\n",
       "      <th>1</th>\n",
       "      <td>1</td>\n",
       "      <td>703491</td>\n",
       "      <td>2015-07-04 17:05:25</td>\n",
       "      <td>72</td>\n",
       "    </tr>\n",
       "    <tr>\n",
       "      <th>2</th>\n",
       "      <td>2</td>\n",
       "      <td>444167</td>\n",
       "      <td>2015-02-10 03:26:03</td>\n",
       "      <td>65</td>\n",
       "    </tr>\n",
       "  </tbody>\n",
       "</table>\n",
       "</div>"
      ],
      "text/plain": [
       "   index  user_id     transaction_date  transaction_amount\n",
       "0      0   856898  2015-08-02 03:56:08                  49\n",
       "1      1   703491  2015-07-04 17:05:25                  72\n",
       "2      2   444167  2015-02-10 03:26:03                  65"
      ]
     },
     "execution_count": 15,
     "metadata": {},
     "output_type": "execute_result"
    }
   ],
   "source": [
    "pd.read_sql('select * from transactions', conn)[:3]"
   ]
  },
  {
   "cell_type": "code",
   "execution_count": null,
   "id": "d386871a-d8c2-494e-b163-164382cc46c2",
   "metadata": {},
   "outputs": [],
   "source": []
  }
 ],
 "metadata": {
  "kernelspec": {
   "display_name": "Python 3 (ipykernel)",
   "language": "python",
   "name": "python3"
  },
  "language_info": {
   "codemirror_mode": {
    "name": "ipython",
    "version": 3
   },
   "file_extension": ".py",
   "mimetype": "text/x-python",
   "name": "python",
   "nbconvert_exporter": "python",
   "pygments_lexer": "ipython3",
   "version": "3.9.10"
  }
 },
 "nbformat": 4,
 "nbformat_minor": 5
}
