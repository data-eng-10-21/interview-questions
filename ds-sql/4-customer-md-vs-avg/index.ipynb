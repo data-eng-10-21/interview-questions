{
 "cells": [
  {
   "cell_type": "markdown",
   "id": "cd55da58-7aec-40c9-9f43-82e4a256a9df",
   "metadata": {},
   "source": [
    "# Custom Median vs Average"
   ]
  },
  {
   "cell_type": "markdown",
   "id": "4ecf3cef-c7e6-4cbf-b212-9d806fed54c6",
   "metadata": {},
   "source": [
    "We have two tables. One is user id and their signup date. The other one shows all transactions done by those users, when the transaction happens and its corresponding dollar amount.\n",
    "\n",
    "Find the average and median transaction amount only considering those transactions that happen on the same date as that user signed-up."
   ]
  },
  {
   "cell_type": "markdown",
   "id": "49fe4676-46d8-4799-bfa7-30c97468a68b",
   "metadata": {},
   "source": [
    "<img src=\"./data.png\" width=\"80%\">"
   ]
  },
  {
   "cell_type": "code",
   "execution_count": null,
   "id": "2bbc6e4a-33ed-4a89-97a4-2429677ae795",
   "metadata": {},
   "outputs": [],
   "source": [
    "import pandas as pd\n",
    "txns_url = 'https://raw.githubusercontent.com/data-eng-10-21/interview-questions/main/ds-sql/4-customer-md-vs-avg/query_five_transactions.csv'\n",
    "users_url = 'https://raw.githubusercontent.com/data-eng-10-21/interview-questions/main/ds-sql/4-customer-md-vs-avg/query_five_users.csv'\n",
    "transactions_df = pd.read_csv(txns_url)\n",
    "users_df = pd.read_csv(users_url)"
   ]
  },
  {
   "cell_type": "code",
   "execution_count": null,
   "id": "328afaeb-0d39-4442-b7f7-e6d74e380a1f",
   "metadata": {},
   "outputs": [],
   "source": [
    "import sqlite3\n",
    "conn = sqlite3.connect('crm.db')"
   ]
  },
  {
   "cell_type": "code",
   "execution_count": null,
   "id": "076c1ba0-c8c7-4203-a12a-5aac88f65ba7",
   "metadata": {},
   "outputs": [],
   "source": [
    "transactions_df.to_sql('transactions', conn)\n",
    "users_df.to_sql('users', conn)"
   ]
  }
 ],
 "metadata": {
  "kernelspec": {
   "display_name": "Python 3 (ipykernel)",
   "language": "python",
   "name": "python3"
  },
  "language_info": {
   "codemirror_mode": {
    "name": "ipython",
    "version": 3
   },
   "file_extension": ".py",
   "mimetype": "text/x-python",
   "name": "python",
   "nbconvert_exporter": "python",
   "pygments_lexer": "ipython3",
   "version": "3.9.10"
  }
 },
 "nbformat": 4,
 "nbformat_minor": 5
}
