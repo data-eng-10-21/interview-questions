{
 "cells": [
  {
   "cell_type": "markdown",
   "id": "d5d1ee3f-2267-46e0-9f0d-1e2562871550",
   "metadata": {},
   "source": [
    "### Consecutive Events"
   ]
  },
  {
   "cell_type": "markdown",
   "id": "bc136851-b703-4b72-92cb-4398219e4c08",
   "metadata": {},
   "source": [
    "For each user_id, find the difference between the last action and the second last action. Action here is defined as visiting a page. If the user has just one action, you can either remove her from the final results or keep that user_id and have NULL as time difference between the two actions.\n",
    "\n",
    "Our table shows for each user all the pages she visited and the corresponding timestamp.\n",
    "\n"
   ]
  },
  {
   "cell_type": "code",
   "execution_count": 1,
   "id": "042c76cb-29bd-490d-be8c-832445dbf1c4",
   "metadata": {},
   "outputs": [],
   "source": [
    "import pandas as pd\n",
    "url = 'https://raw.githubusercontent.com/data-eng-10-21/interview-questions/main/ds-sql/2-consec-events/query_users.csv'\n",
    "df = pd.read_csv(url, index_col = 0)"
   ]
  },
  {
   "cell_type": "code",
   "execution_count": 2,
   "id": "09f154fe-8378-450f-b564-ddf5eed3750c",
   "metadata": {},
   "outputs": [],
   "source": [
    "import sqlite3\n",
    "\n",
    "conn = sqlite3.connect('events.db')"
   ]
  },
  {
   "cell_type": "code",
   "execution_count": 3,
   "id": "0b2fb53e-f710-42a1-a4e2-aa15b864ef0d",
   "metadata": {},
   "outputs": [],
   "source": [
    "df.to_sql('events', conn, if_exists = 'replace')"
   ]
  },
  {
   "cell_type": "code",
   "execution_count": 4,
   "id": "5412fd07-b28b-4b24-956a-6f7e827e0e42",
   "metadata": {},
   "outputs": [
    {
     "data": {
      "text/html": [
       "<div>\n",
       "<style scoped>\n",
       "    .dataframe tbody tr th:only-of-type {\n",
       "        vertical-align: middle;\n",
       "    }\n",
       "\n",
       "    .dataframe tbody tr th {\n",
       "        vertical-align: top;\n",
       "    }\n",
       "\n",
       "    .dataframe thead th {\n",
       "        text-align: right;\n",
       "    }\n",
       "</style>\n",
       "<table border=\"1\" class=\"dataframe\">\n",
       "  <thead>\n",
       "    <tr style=\"text-align: right;\">\n",
       "      <th></th>\n",
       "      <th>user_id</th>\n",
       "      <th>page</th>\n",
       "      <th>unix_timestamp</th>\n",
       "    </tr>\n",
       "  </thead>\n",
       "  <tbody>\n",
       "    <tr>\n",
       "      <th>0</th>\n",
       "      <td>6684</td>\n",
       "      <td>home_page</td>\n",
       "      <td>1451640067</td>\n",
       "    </tr>\n",
       "    <tr>\n",
       "      <th>1</th>\n",
       "      <td>8098</td>\n",
       "      <td>home_page</td>\n",
       "      <td>1451647141</td>\n",
       "    </tr>\n",
       "  </tbody>\n",
       "</table>\n",
       "</div>"
      ],
      "text/plain": [
       "   user_id       page  unix_timestamp\n",
       "0     6684  home_page      1451640067\n",
       "1     8098  home_page      1451647141"
      ]
     },
     "execution_count": 4,
     "metadata": {},
     "output_type": "execute_result"
    }
   ],
   "source": [
    "pd.read_sql('select * from events limit 2', conn)"
   ]
  },
  {
   "cell_type": "markdown",
   "id": "9c30c6bc-045e-437b-9acb-d449ea24057c",
   "metadata": {},
   "source": [
    "<img src=\"./data-desc.png\" width=\"60%\">"
   ]
  },
  {
   "cell_type": "markdown",
   "id": "55d9c769-26f8-4db0-90b3-25229fb6571a",
   "metadata": {},
   "source": [
    "### Answer"
   ]
  },
  {
   "cell_type": "markdown",
   "id": "6109972e-ea67-4e20-9126-be81c04bdb01",
   "metadata": {},
   "source": [
    "<img src=\"./answer.png\" width=\"40%\">"
   ]
  }
 ],
 "metadata": {
  "kernelspec": {
   "display_name": "Python 3 (ipykernel)",
   "language": "python",
   "name": "python3"
  },
  "language_info": {
   "codemirror_mode": {
    "name": "ipython",
    "version": 3
   },
   "file_extension": ".py",
   "mimetype": "text/x-python",
   "name": "python",
   "nbconvert_exporter": "python",
   "pygments_lexer": "ipython3",
   "version": "3.9.10"
  }
 },
 "nbformat": 4,
 "nbformat_minor": 5
}
