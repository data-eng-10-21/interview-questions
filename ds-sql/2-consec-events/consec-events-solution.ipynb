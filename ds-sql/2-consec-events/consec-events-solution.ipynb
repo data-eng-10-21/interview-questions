{
 "cells": [
  {
   "cell_type": "markdown",
   "id": "d5d1ee3f-2267-46e0-9f0d-1e2562871550",
   "metadata": {},
   "source": [
    "### Consecutive Events"
   ]
  },
  {
   "cell_type": "markdown",
   "id": "bc136851-b703-4b72-92cb-4398219e4c08",
   "metadata": {},
   "source": [
    "For each user_id, find the difference between the last action and the second last action. Action here is defined as visiting a page. If the user has just one action, you can either remove her from the final results or keep that user_id and have NULL as time difference between the two actions.\n",
    "\n",
    "Our table shows for each user all the pages she visited and the corresponding timestamp.\n",
    "\n"
   ]
  },
  {
   "cell_type": "code",
   "execution_count": 1,
   "id": "042c76cb-29bd-490d-be8c-832445dbf1c4",
   "metadata": {},
   "outputs": [],
   "source": [
    "import pandas as pd\n",
    "url = 'https://raw.githubusercontent.com/data-eng-10-21/interview-questions/main/ds-sql/2-consec-events/query_users.csv'\n",
    "df = pd.read_csv(url, index_col = 0)"
   ]
  },
  {
   "cell_type": "code",
   "execution_count": 2,
   "id": "09f154fe-8378-450f-b564-ddf5eed3750c",
   "metadata": {},
   "outputs": [],
   "source": [
    "import sqlite3\n",
    "\n",
    "conn = sqlite3.connect('events.db')"
   ]
  },
  {
   "cell_type": "code",
   "execution_count": 3,
   "id": "0b2fb53e-f710-42a1-a4e2-aa15b864ef0d",
   "metadata": {},
   "outputs": [],
   "source": [
    "df.to_sql('events', conn, if_exists = 'replace')"
   ]
  },
  {
   "cell_type": "code",
   "execution_count": 4,
   "id": "5412fd07-b28b-4b24-956a-6f7e827e0e42",
   "metadata": {},
   "outputs": [
    {
     "data": {
      "text/html": [
       "<div>\n",
       "<style scoped>\n",
       "    .dataframe tbody tr th:only-of-type {\n",
       "        vertical-align: middle;\n",
       "    }\n",
       "\n",
       "    .dataframe tbody tr th {\n",
       "        vertical-align: top;\n",
       "    }\n",
       "\n",
       "    .dataframe thead th {\n",
       "        text-align: right;\n",
       "    }\n",
       "</style>\n",
       "<table border=\"1\" class=\"dataframe\">\n",
       "  <thead>\n",
       "    <tr style=\"text-align: right;\">\n",
       "      <th></th>\n",
       "      <th>user_id</th>\n",
       "      <th>page</th>\n",
       "      <th>unix_timestamp</th>\n",
       "    </tr>\n",
       "  </thead>\n",
       "  <tbody>\n",
       "    <tr>\n",
       "      <th>0</th>\n",
       "      <td>6684</td>\n",
       "      <td>home_page</td>\n",
       "      <td>1451640067</td>\n",
       "    </tr>\n",
       "    <tr>\n",
       "      <th>1</th>\n",
       "      <td>8098</td>\n",
       "      <td>home_page</td>\n",
       "      <td>1451647141</td>\n",
       "    </tr>\n",
       "  </tbody>\n",
       "</table>\n",
       "</div>"
      ],
      "text/plain": [
       "   user_id       page  unix_timestamp\n",
       "0     6684  home_page      1451640067\n",
       "1     8098  home_page      1451647141"
      ]
     },
     "execution_count": 4,
     "metadata": {},
     "output_type": "execute_result"
    }
   ],
   "source": [
    "pd.read_sql('select * from events limit 2', conn)"
   ]
  },
  {
   "cell_type": "code",
   "execution_count": 42,
   "id": "337a117e-c7e4-4d87-aad4-52e59d375bbd",
   "metadata": {},
   "outputs": [
    {
     "data": {
      "text/html": [
       "<div>\n",
       "<style scoped>\n",
       "    .dataframe tbody tr th:only-of-type {\n",
       "        vertical-align: middle;\n",
       "    }\n",
       "\n",
       "    .dataframe tbody tr th {\n",
       "        vertical-align: top;\n",
       "    }\n",
       "\n",
       "    .dataframe thead th {\n",
       "        text-align: right;\n",
       "    }\n",
       "</style>\n",
       "<table border=\"1\" class=\"dataframe\">\n",
       "  <thead>\n",
       "    <tr style=\"text-align: right;\">\n",
       "      <th></th>\n",
       "      <th>user_id</th>\n",
       "      <th>unix_timestamp</th>\n",
       "      <th>earlier</th>\n",
       "      <th>delta</th>\n",
       "      <th>order_desc</th>\n",
       "    </tr>\n",
       "  </thead>\n",
       "  <tbody>\n",
       "    <tr>\n",
       "      <th>0</th>\n",
       "      <td>2</td>\n",
       "      <td>1451606400</td>\n",
       "      <td>NaN</td>\n",
       "      <td>NaN</td>\n",
       "      <td>1</td>\n",
       "    </tr>\n",
       "    <tr>\n",
       "      <th>1</th>\n",
       "      <td>3</td>\n",
       "      <td>1451606404</td>\n",
       "      <td>NaN</td>\n",
       "      <td>NaN</td>\n",
       "      <td>1</td>\n",
       "    </tr>\n",
       "    <tr>\n",
       "      <th>2</th>\n",
       "      <td>3</td>\n",
       "      <td>1451606402</td>\n",
       "      <td>1.451606e+09</td>\n",
       "      <td>2.0</td>\n",
       "      <td>2</td>\n",
       "    </tr>\n",
       "    <tr>\n",
       "      <th>3</th>\n",
       "      <td>4</td>\n",
       "      <td>1451606423</td>\n",
       "      <td>NaN</td>\n",
       "      <td>NaN</td>\n",
       "      <td>1</td>\n",
       "    </tr>\n",
       "    <tr>\n",
       "      <th>4</th>\n",
       "      <td>4</td>\n",
       "      <td>1451606419</td>\n",
       "      <td>1.451606e+09</td>\n",
       "      <td>4.0</td>\n",
       "      <td>2</td>\n",
       "    </tr>\n",
       "    <tr>\n",
       "      <th>5</th>\n",
       "      <td>4</td>\n",
       "      <td>1451606418</td>\n",
       "      <td>1.451606e+09</td>\n",
       "      <td>1.0</td>\n",
       "      <td>3</td>\n",
       "    </tr>\n",
       "    <tr>\n",
       "      <th>6</th>\n",
       "      <td>4</td>\n",
       "      <td>1451606407</td>\n",
       "      <td>1.451606e+09</td>\n",
       "      <td>11.0</td>\n",
       "      <td>4</td>\n",
       "    </tr>\n",
       "    <tr>\n",
       "      <th>7</th>\n",
       "      <td>5</td>\n",
       "      <td>1451606425</td>\n",
       "      <td>NaN</td>\n",
       "      <td>NaN</td>\n",
       "      <td>1</td>\n",
       "    </tr>\n",
       "    <tr>\n",
       "      <th>8</th>\n",
       "      <td>7</td>\n",
       "      <td>1451606427</td>\n",
       "      <td>NaN</td>\n",
       "      <td>NaN</td>\n",
       "      <td>1</td>\n",
       "    </tr>\n",
       "    <tr>\n",
       "      <th>9</th>\n",
       "      <td>8</td>\n",
       "      <td>1451606437</td>\n",
       "      <td>NaN</td>\n",
       "      <td>NaN</td>\n",
       "      <td>1</td>\n",
       "    </tr>\n",
       "  </tbody>\n",
       "</table>\n",
       "</div>"
      ],
      "text/plain": [
       "   user_id  unix_timestamp       earlier  delta  order_desc\n",
       "0        2      1451606400           NaN    NaN           1\n",
       "1        3      1451606404           NaN    NaN           1\n",
       "2        3      1451606402  1.451606e+09    2.0           2\n",
       "3        4      1451606423           NaN    NaN           1\n",
       "4        4      1451606419  1.451606e+09    4.0           2\n",
       "5        4      1451606418  1.451606e+09    1.0           3\n",
       "6        4      1451606407  1.451606e+09   11.0           4\n",
       "7        5      1451606425           NaN    NaN           1\n",
       "8        7      1451606427           NaN    NaN           1\n",
       "9        8      1451606437           NaN    NaN           1"
      ]
     },
     "execution_count": 42,
     "metadata": {},
     "output_type": "execute_result"
    }
   ],
   "source": [
    "results = pd.read_sql(\"\"\"\n",
    "SELECT * FROM \n",
    "    (SELECT user_id, unix_timestamp, LAG(unix_timestamp, 1) OVER\n",
    "    (PARTITION BY user_id order by unix_timestamp DESC) as earlier, \n",
    "    (LAG(unix_timestamp, 1) OVER\n",
    "    (PARTITION BY user_id order by unix_timestamp DESC) - unix_timestamp) as delta, \n",
    "    ROW_NUMBER() OVER (PARTITION BY user_id ORDER BY unix_timestamp DESC) AS order_desc \n",
    "    FROM events)\n",
    "    ;\n",
    "\"\"\", conn)\n",
    "results[:10]"
   ]
  },
  {
   "cell_type": "markdown",
   "id": "9c30c6bc-045e-437b-9acb-d449ea24057c",
   "metadata": {},
   "source": [
    "<img src=\"./data-desc.png\" width=\"60%\">"
   ]
  },
  {
   "cell_type": "markdown",
   "id": "55d9c769-26f8-4db0-90b3-25229fb6571a",
   "metadata": {},
   "source": [
    "### Answer"
   ]
  },
  {
   "cell_type": "markdown",
   "id": "6109972e-ea67-4e20-9126-be81c04bdb01",
   "metadata": {},
   "source": [
    "<img src=\"./answer.png\" width=\"40%\">"
   ]
  },
  {
   "cell_type": "markdown",
   "id": "085edd07-545e-434d-9cc2-d94ea688a968",
   "metadata": {},
   "source": [
    "```sql\n",
    "SELECT user_id,  \n",
    "       unix_timestamp - previous_time AS Delta_SecondLast0ne_LastOne  \n",
    "FROM  \n",
    "     (SELECT user_id,   \n",
    "             unix_timestamp,  \n",
    "             LAG(unix_timestamp, 1) OVER (PARTITION BY user_id ORDER BY unix_timestamp) AS previous_time,  \n",
    "             ROW_NUMBER() OVER (PARTITION BY user_id ORDER BY unix_timestamp DESC) AS order_desc  \n",
    "       FROM query_one  \n",
    "       ) tmp  \n",
    "WHERE order_desc = 1  \n",
    "ORDER BY user_id  \n",
    "LIMIT 5;\n",
    "```"
   ]
  },
  {
   "cell_type": "code",
   "execution_count": null,
   "id": "f6dd1467-9df8-491e-a214-74b79c5c88e4",
   "metadata": {},
   "outputs": [],
   "source": []
  }
 ],
 "metadata": {
  "kernelspec": {
   "display_name": "Python 3 (ipykernel)",
   "language": "python",
   "name": "python3"
  },
  "language_info": {
   "codemirror_mode": {
    "name": "ipython",
    "version": 3
   },
   "file_extension": ".py",
   "mimetype": "text/x-python",
   "name": "python",
   "nbconvert_exporter": "python",
   "pygments_lexer": "ipython3",
   "version": "3.9.7"
  }
 },
 "nbformat": 4,
 "nbformat_minor": 5
}
