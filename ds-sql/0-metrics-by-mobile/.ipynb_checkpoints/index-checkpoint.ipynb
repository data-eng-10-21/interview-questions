{
 "cells": [
  {
   "cell_type": "markdown",
   "id": "ce347184-22eb-4a6c-83d2-b51ae42bb551",
   "metadata": {},
   "source": [
    "# Metrics by mobile, web, and cross device"
   ]
  },
  {
   "cell_type": "markdown",
   "id": "7ca018eb-0898-481a-8df5-52c53b027935",
   "metadata": {},
   "source": [
    "We have two tables. One table has all mobile actions, i.e. all pages visited by the users on mobile. The other table has all web actions, i.e. all pages visited on web by the users.\n",
    "\n",
    "\n",
    "Write a query that returns the percentage of users who only visited mobile, only web and both. That is, the percentage of users who are only in the mobile table, only in the web table and in both tables. The sum of the percentages should return 1."
   ]
  },
  {
   "cell_type": "markdown",
   "id": "a1458053-9e32-494f-8e17-e395b1b6580b",
   "metadata": {},
   "source": [
    "### Setup"
   ]
  },
  {
   "cell_type": "code",
   "execution_count": 5,
   "id": "3f6ee7aa-dbf1-4393-ac27-2d82e0105fed",
   "metadata": {},
   "outputs": [],
   "source": [
    "import pandas as pd\n",
    "\n",
    "import sqlite3\n",
    "conn = sqlite3.connect('metrics.db')"
   ]
  },
  {
   "cell_type": "code",
   "execution_count": 6,
   "id": "71b7117e-2fa2-4bac-97ec-1c554e1dec2f",
   "metadata": {},
   "outputs": [],
   "source": [
    "import pandas as pd\n",
    "\n",
    "mobile_df = pd.read_csv('https://raw.githubusercontent.com/data-eng-10-21/interview-questions/main/ds-sql/0-metrics-by-mobile/query_two_mobile.csv')\n",
    "web_df = pd.read_csv('https://raw.githubusercontent.com/data-eng-10-21/interview-questions/main/ds-sql/0-metrics-by-mobile/query_two_web.csv')"
   ]
  },
  {
   "cell_type": "code",
   "execution_count": 7,
   "id": "47cc79a5-9bab-43fe-bbe4-0684149ecdf8",
   "metadata": {},
   "outputs": [
    {
     "data": {
      "text/html": [
       "<div>\n",
       "<style scoped>\n",
       "    .dataframe tbody tr th:only-of-type {\n",
       "        vertical-align: middle;\n",
       "    }\n",
       "\n",
       "    .dataframe tbody tr th {\n",
       "        vertical-align: top;\n",
       "    }\n",
       "\n",
       "    .dataframe thead th {\n",
       "        text-align: right;\n",
       "    }\n",
       "</style>\n",
       "<table border=\"1\" class=\"dataframe\">\n",
       "  <thead>\n",
       "    <tr style=\"text-align: right;\">\n",
       "      <th></th>\n",
       "      <th>user_id</th>\n",
       "      <th>page</th>\n",
       "    </tr>\n",
       "  </thead>\n",
       "  <tbody>\n",
       "    <tr>\n",
       "      <th>0</th>\n",
       "      <td>128</td>\n",
       "      <td>page_5_mobile</td>\n",
       "    </tr>\n",
       "    <tr>\n",
       "      <th>1</th>\n",
       "      <td>1324</td>\n",
       "      <td>page_2_mobile</td>\n",
       "    </tr>\n",
       "  </tbody>\n",
       "</table>\n",
       "</div>"
      ],
      "text/plain": [
       "   user_id           page\n",
       "0      128  page_5_mobile\n",
       "1     1324  page_2_mobile"
      ]
     },
     "execution_count": 7,
     "metadata": {},
     "output_type": "execute_result"
    }
   ],
   "source": [
    "mobile_df[:2]"
   ]
  },
  {
   "cell_type": "code",
   "execution_count": 11,
   "id": "57de6c10-1ebe-4720-8a41-bed64ad409f7",
   "metadata": {},
   "outputs": [],
   "source": [
    "mobile_df.to_sql('mobile_visits', conn, if_exists = 'replace')"
   ]
  },
  {
   "cell_type": "code",
   "execution_count": 12,
   "id": "32a047cb-8612-4102-b9d8-f0ab0528c8bd",
   "metadata": {},
   "outputs": [],
   "source": [
    "web_df.to_sql('web_visits', conn, if_exists = 'replace')"
   ]
  },
  {
   "cell_type": "code",
   "execution_count": 14,
   "id": "6ca1b808-b2fc-4ea7-8fb4-7fc1eb4e32ca",
   "metadata": {},
   "outputs": [
    {
     "data": {
      "text/html": [
       "<div>\n",
       "<style scoped>\n",
       "    .dataframe tbody tr th:only-of-type {\n",
       "        vertical-align: middle;\n",
       "    }\n",
       "\n",
       "    .dataframe tbody tr th {\n",
       "        vertical-align: top;\n",
       "    }\n",
       "\n",
       "    .dataframe thead th {\n",
       "        text-align: right;\n",
       "    }\n",
       "</style>\n",
       "<table border=\"1\" class=\"dataframe\">\n",
       "  <thead>\n",
       "    <tr style=\"text-align: right;\">\n",
       "      <th></th>\n",
       "      <th>index</th>\n",
       "      <th>user_id</th>\n",
       "      <th>page</th>\n",
       "    </tr>\n",
       "  </thead>\n",
       "  <tbody>\n",
       "    <tr>\n",
       "      <th>0</th>\n",
       "      <td>0</td>\n",
       "      <td>1210</td>\n",
       "      <td>page_1_web</td>\n",
       "    </tr>\n",
       "    <tr>\n",
       "      <th>1</th>\n",
       "      <td>1</td>\n",
       "      <td>1275</td>\n",
       "      <td>page_1_web</td>\n",
       "    </tr>\n",
       "  </tbody>\n",
       "</table>\n",
       "</div>"
      ],
      "text/plain": [
       "   index  user_id        page\n",
       "0      0     1210  page_1_web\n",
       "1      1     1275  page_1_web"
      ]
     },
     "execution_count": 14,
     "metadata": {},
     "output_type": "execute_result"
    }
   ],
   "source": [
    "web_visits = pd.read_sql('select * from web_visits limit 2', conn)\n",
    "web_visits[:2]"
   ]
  },
  {
   "cell_type": "code",
   "execution_count": 15,
   "id": "16ccfe7c-452b-49e7-aaae-42cc141b91f1",
   "metadata": {},
   "outputs": [
    {
     "data": {
      "text/html": [
       "<div>\n",
       "<style scoped>\n",
       "    .dataframe tbody tr th:only-of-type {\n",
       "        vertical-align: middle;\n",
       "    }\n",
       "\n",
       "    .dataframe tbody tr th {\n",
       "        vertical-align: top;\n",
       "    }\n",
       "\n",
       "    .dataframe thead th {\n",
       "        text-align: right;\n",
       "    }\n",
       "</style>\n",
       "<table border=\"1\" class=\"dataframe\">\n",
       "  <thead>\n",
       "    <tr style=\"text-align: right;\">\n",
       "      <th></th>\n",
       "      <th>index</th>\n",
       "      <th>user_id</th>\n",
       "      <th>page</th>\n",
       "    </tr>\n",
       "  </thead>\n",
       "  <tbody>\n",
       "    <tr>\n",
       "      <th>0</th>\n",
       "      <td>0</td>\n",
       "      <td>1210</td>\n",
       "      <td>page_1_web</td>\n",
       "    </tr>\n",
       "    <tr>\n",
       "      <th>1</th>\n",
       "      <td>1</td>\n",
       "      <td>1275</td>\n",
       "      <td>page_1_web</td>\n",
       "    </tr>\n",
       "  </tbody>\n",
       "</table>\n",
       "</div>"
      ],
      "text/plain": [
       "   index  user_id        page\n",
       "0      0     1210  page_1_web\n",
       "1      1     1275  page_1_web"
      ]
     },
     "execution_count": 15,
     "metadata": {},
     "output_type": "execute_result"
    }
   ],
   "source": [
    "mobile_df = pd.read_sql('select * from web_visits limit 2', conn)\n",
    "mobile_df[:2]"
   ]
  },
  {
   "cell_type": "markdown",
   "id": "aa3065d1-4765-4049-8f78-5ae4742299c0",
   "metadata": {},
   "source": [
    "### Answer\n",
    "\n",
    "\n",
    "* WEB_ONLY\n",
    "> 16\n",
    "\n",
    "* Mobile Only\n",
    "> 31\n",
    "* Both \n",
    "> 52"
   ]
  }
 ],
 "metadata": {
  "kernelspec": {
   "display_name": "Python 3 (ipykernel)",
   "language": "python",
   "name": "python3"
  },
  "language_info": {
   "codemirror_mode": {
    "name": "ipython",
    "version": 3
   },
   "file_extension": ".py",
   "mimetype": "text/x-python",
   "name": "python",
   "nbconvert_exporter": "python",
   "pygments_lexer": "ipython3",
   "version": "3.9.7"
  }
 },
 "nbformat": 4,
 "nbformat_minor": 5
}
