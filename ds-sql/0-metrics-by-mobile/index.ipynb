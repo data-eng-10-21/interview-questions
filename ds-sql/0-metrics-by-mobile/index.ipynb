{
 "cells": [
  {
   "cell_type": "markdown",
   "id": "ce347184-22eb-4a6c-83d2-b51ae42bb551",
   "metadata": {},
   "source": [
    "# Metrics by mobile, web, and cross device"
   ]
  },
  {
   "cell_type": "markdown",
   "id": "7ca018eb-0898-481a-8df5-52c53b027935",
   "metadata": {},
   "source": [
    "We have two tables. One table has all mobile actions, i.e. all pages visited by the users on mobile. The other table has all web actions, i.e. all pages visited on web by the users.\n",
    "\n",
    "\n",
    "Write a query that returns the percentage of users who only visited mobile, only web and both. That is, the percentage of users who are only in the mobile table, only in the web table and in both tables. The sum of the percentages should return 1."
   ]
  },
  {
   "cell_type": "markdown",
   "id": "a1458053-9e32-494f-8e17-e395b1b6580b",
   "metadata": {},
   "source": [
    "### Setup"
   ]
  },
  {
   "cell_type": "code",
   "execution_count": 2,
   "id": "3f6ee7aa-dbf1-4393-ac27-2d82e0105fed",
   "metadata": {},
   "outputs": [],
   "source": [
    "import pandas as pd\n",
    "\n",
    "import sqlite3\n",
    "conn = sqlite3.connect('metrics.db')"
   ]
  },
  {
   "cell_type": "code",
   "execution_count": 3,
   "id": "71b7117e-2fa2-4bac-97ec-1c554e1dec2f",
   "metadata": {},
   "outputs": [],
   "source": [
    "import pandas as pd\n",
    "\n",
    "mobile_df = pd.read_csv('query_two_mobile.csv')\n",
    "web_df = pd.read_csv('query_two_web.csv')"
   ]
  },
  {
   "cell_type": "code",
   "execution_count": null,
   "id": "57de6c10-1ebe-4720-8a41-bed64ad409f7",
   "metadata": {},
   "outputs": [],
   "source": []
  },
  {
   "cell_type": "markdown",
   "id": "aa3065d1-4765-4049-8f78-5ae4742299c0",
   "metadata": {},
   "source": [
    "### Answer\n",
    "\n",
    "\n",
    "* WEB_ONLY\n",
    "> 16\n",
    "\n",
    "* Mobile Only\n",
    "> 31\n",
    "* Both \n",
    "> 52"
   ]
  }
 ],
 "metadata": {
  "kernelspec": {
   "display_name": "Python 3 (ipykernel)",
   "language": "python",
   "name": "python3"
  },
  "language_info": {
   "codemirror_mode": {
    "name": "ipython",
    "version": 3
   },
   "file_extension": ".py",
   "mimetype": "text/x-python",
   "name": "python",
   "nbconvert_exporter": "python",
   "pygments_lexer": "ipython3",
   "version": "3.9.7"
  }
 },
 "nbformat": 4,
 "nbformat_minor": 5
}
