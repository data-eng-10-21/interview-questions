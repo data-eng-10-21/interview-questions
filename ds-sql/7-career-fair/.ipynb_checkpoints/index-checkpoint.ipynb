{
 "cells": [
  {
   "cell_type": "markdown",
   "id": "315e1702-6729-4658-b34b-b4325fc4f9eb",
   "metadata": {},
   "source": [
    "# Employers Data Modelings"
   ]
  },
  {
   "cell_type": "markdown",
   "id": "a99e6ab7-0044-4f40-9713-7f65a02d784e",
   "metadata": {},
   "source": [
    "### Loading the Data"
   ]
  },
  {
   "cell_type": "markdown",
   "id": "d5543d2b-1966-45e5-980d-1c1c781b6faa",
   "metadata": {},
   "source": [
    "We can create the necessary tables and insert related data by running the  `migration.sql` against a new postgres database.  So get started by creating a new database called `career_fair`, and then run the `migration.sql` file against this database, which is located [here](https://github.com/tech-interviews-jigsaw/interview-questions/blob/main/ds-sql/7-career-fair/migration.sql)."
   ]
  },
  {
   "cell_type": "markdown",
   "id": "1be7de07-570f-41f4-9ec9-79b16bfa0ad4",
   "metadata": {},
   "source": [
    "This is the structure of the tables."
   ]
  },
  {
   "cell_type": "markdown",
   "id": "220c3432-e15f-487e-a3f1-c1d7acedc686",
   "metadata": {},
   "source": [
    "> <img src=\"./erd.png\" width=\"80%\">"
   ]
  },
  {
   "cell_type": "markdown",
   "id": "744f4253-7c27-4486-bba4-8943289f10df",
   "metadata": {},
   "source": [
    "1. Find the job id and job title of the job that received the most applications.\n"
   ]
  },
  {
   "cell_type": "markdown",
   "id": "42891670-6a45-4e3d-9e7d-adfa17796b33",
   "metadata": {},
   "source": [
    "2. Find the names of all students who are experienced in both 'Python' and 'SQL'."
   ]
  },
  {
   "cell_type": "markdown",
   "id": "a0aa1888-7faf-4c8f-b125-d89fdf2316c2",
   "metadata": {},
   "source": [
    "3. Find the job id, employer name, job name (title), and post date/time of all job listings that a student named 'Jane’ may be qualified for (she has a high-enough GPA and at least one of her skills is also listed as a skill for the job).\n"
   ]
  },
  {
   "cell_type": "markdown",
   "id": "6f000468-1945-4754-9ad1-0210e5a2e150",
   "metadata": {},
   "source": [
    "4. Find the name of any student who did two or more interviews without getting a single offer."
   ]
  },
  {
   "cell_type": "markdown",
   "id": "42f3b775-650f-4a5e-a888-8e9d7c97a423",
   "metadata": {},
   "source": [
    "5. For each skill (either job skill or student skill), return the number of jobs looking for it and the number of students having it."
   ]
  },
  {
   "cell_type": "code",
   "execution_count": 3,
   "id": "45db71ba-9da1-40a9-a194-57d61fc00f01",
   "metadata": {},
   "outputs": [],
   "source": [
    "import psycopg2\n",
    "\n",
    "conn = psycopg2.connect(database = 'career_fair')\n",
    "cursor = conn.cursor()"
   ]
  },
  {
   "cell_type": "code",
   "execution_count": 4,
   "id": "aacd9a36-d7bd-4558-a1a3-77cc70f74b3b",
   "metadata": {},
   "outputs": [],
   "source": [
    "cursor.execute('select * from employers;')"
   ]
  },
  {
   "cell_type": "code",
   "execution_count": 5,
   "id": "74904f38-584e-4cff-882e-32fec61aef35",
   "metadata": {},
   "outputs": [
    {
     "data": {
      "text/plain": [
       "[(100, 'Flywheel Software', 'San Francisco, CA'),\n",
       " (101, 'Google', 'San Francisco, CA'),\n",
       " (102, 'Indeed', 'Austin, TX')]"
      ]
     },
     "execution_count": 5,
     "metadata": {},
     "output_type": "execute_result"
    }
   ],
   "source": [
    "cursor.fetchall()"
   ]
  },
  {
   "cell_type": "code",
   "execution_count": null,
   "id": "bad6adca-ee4b-415a-a6e2-3e24427f4965",
   "metadata": {},
   "outputs": [],
   "source": []
  }
 ],
 "metadata": {
  "kernelspec": {
   "display_name": "Python 3 (ipykernel)",
   "language": "python",
   "name": "python3"
  },
  "language_info": {
   "codemirror_mode": {
    "name": "ipython",
    "version": 3
   },
   "file_extension": ".py",
   "mimetype": "text/x-python",
   "name": "python",
   "nbconvert_exporter": "python",
   "pygments_lexer": "ipython3",
   "version": "3.10.6"
  }
 },
 "nbformat": 4,
 "nbformat_minor": 5
}
