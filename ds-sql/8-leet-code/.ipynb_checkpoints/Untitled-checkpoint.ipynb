{
 "cells": [
  {
   "cell_type": "markdown",
   "id": "dcc21d45-1912-4f63-8edf-2fa6ac901909",
   "metadata": {},
   "source": [
    "# Leetcode Problems"
   ]
  },
  {
   "cell_type": "markdown",
   "id": "a1d77f54-d7a0-477b-99d9-23536f1ca9ac",
   "metadata": {},
   "source": [
    "0. [https://leetcode.com/problems/rising-temperature/](Rising Temperature)"
   ]
  },
  {
   "cell_type": "markdown",
   "id": "90226783-b78b-44c9-90f2-e3dcabb8ae93",
   "metadata": {},
   "source": [
    "1. [Employees earning more than their managers](https://leetcode.com/problems/employees-earning-more-than-their-managers/)\n",
    "\n",
    "2. [Department Highest Salary](https://leetcode.com/problems/department-highest-salary/)"
   ]
  },
  {
   "cell_type": "markdown",
   "id": "993b1e00-ff3f-4967-a094-691e734e1cd6",
   "metadata": {},
   "source": [
    "3. [Second Highest Salary](https://leetcode.com/problems/second-highest-salary/)"
   ]
  }
 ],
 "metadata": {
  "kernelspec": {
   "display_name": "Python 3 (ipykernel)",
   "language": "python",
   "name": "python3"
  },
  "language_info": {
   "codemirror_mode": {
    "name": "ipython",
    "version": 3
   },
   "file_extension": ".py",
   "mimetype": "text/x-python",
   "name": "python",
   "nbconvert_exporter": "python",
   "pygments_lexer": "ipython3",
   "version": "3.9.10"
  }
 },
 "nbformat": 4,
 "nbformat_minor": 5
}
