{
 "cells": [
  {
   "cell_type": "markdown",
   "id": "ea518717-4ad0-4d35-a8f3-31cb21983e45",
   "metadata": {},
   "source": [
    "# Rank Users within Groups"
   ]
  },
  {
   "cell_type": "markdown",
   "id": "8cac1a8f-1572-43a7-bad3-34209d25ac06",
   "metadata": {},
   "source": [
    "We have a table with users, their country and when they created the account. We want to find:\n",
    "\n",
    "The country with the largest and smallest number of users\n",
    "A query that returns for each country the first and the last user who signed up (if that country has just one user, it should just return that single user)"
   ]
  },
  {
   "cell_type": "markdown",
   "id": "aa627f57-b555-4e25-bd1c-6c65746600e8",
   "metadata": {},
   "source": [
    "<img src=\"./within.png\">"
   ]
  },
  {
   "cell_type": "code",
   "execution_count": 1,
   "id": "3de78758-095d-4986-836f-3a55ca17d62b",
   "metadata": {},
   "outputs": [],
   "source": [
    "import pandas as pd\n",
    "\n",
    "users_url = 'https://raw.githubusercontent.com/data-eng-10-21/interview-questions/main/ds-sql/3-total-and-running-values/query_five_users.csv'\n",
    "users_df = pd.read_csv(users_url)"
   ]
  },
  {
   "cell_type": "code",
   "execution_count": 2,
   "id": "3d03ce1f-d3c0-460c-8708-b1a1ee4b5eaf",
   "metadata": {},
   "outputs": [],
   "source": [
    "import sqlite3\n",
    "conn = sqlite3.connect('crm.db')"
   ]
  },
  {
   "cell_type": "code",
   "execution_count": null,
   "id": "3b2a07b8-3413-4a9a-89e8-005ca22b51f6",
   "metadata": {},
   "outputs": [],
   "source": [
    "\n",
    "users_df.to_sql('users', conn)"
   ]
  }
 ],
 "metadata": {
  "kernelspec": {
   "display_name": "Python 3 (ipykernel)",
   "language": "python",
   "name": "python3"
  },
  "language_info": {
   "codemirror_mode": {
    "name": "ipython",
    "version": 3
   },
   "file_extension": ".py",
   "mimetype": "text/x-python",
   "name": "python",
   "nbconvert_exporter": "python",
   "pygments_lexer": "ipython3",
   "version": "3.9.10"
  }
 },
 "nbformat": 4,
 "nbformat_minor": 5
}
