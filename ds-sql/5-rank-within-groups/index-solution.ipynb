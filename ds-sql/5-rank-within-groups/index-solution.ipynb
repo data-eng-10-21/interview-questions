{
 "cells": [
  {
   "cell_type": "markdown",
   "id": "ea518717-4ad0-4d35-a8f3-31cb21983e45",
   "metadata": {},
   "source": [
    "# Rank Users within Groups"
   ]
  },
  {
   "cell_type": "markdown",
   "id": "8cac1a8f-1572-43a7-bad3-34209d25ac06",
   "metadata": {},
   "source": [
    "We have a table with users, their country and when they created the account. We want to find:\n",
    "\n",
    "* The country with the largest and smallest number of users\n",
    "\n",
    "* A query that returns for each country the first and the last user who signed up (if that country has just one user, it should just return that single user)"
   ]
  },
  {
   "cell_type": "markdown",
   "id": "aa627f57-b555-4e25-bd1c-6c65746600e8",
   "metadata": {},
   "source": [
    "<img src=\"./within.png\">"
   ]
  },
  {
   "cell_type": "code",
   "execution_count": 1,
   "id": "3de78758-095d-4986-836f-3a55ca17d62b",
   "metadata": {},
   "outputs": [],
   "source": [
    "import pandas as pd\n",
    "\n",
    "users_url = 'https://raw.githubusercontent.com/data-eng-10-21/interview-questions/main/ds-sql/5-rank-within-groups/query_six-1.csv'\n",
    "users_df = pd.read_csv(users_url)"
   ]
  },
  {
   "cell_type": "code",
   "execution_count": 2,
   "id": "3d03ce1f-d3c0-460c-8708-b1a1ee4b5eaf",
   "metadata": {},
   "outputs": [],
   "source": [
    "import sqlite3\n",
    "conn = sqlite3.connect('crm.db')"
   ]
  },
  {
   "cell_type": "code",
   "execution_count": 3,
   "id": "3b2a07b8-3413-4a9a-89e8-005ca22b51f6",
   "metadata": {},
   "outputs": [
    {
     "data": {
      "text/plain": [
       "58727"
      ]
     },
     "execution_count": 3,
     "metadata": {},
     "output_type": "execute_result"
    }
   ],
   "source": [
    "users_df.to_sql('users', conn)"
   ]
  },
  {
   "cell_type": "code",
   "execution_count": 5,
   "id": "840cb1b1-eca3-4290-9a30-166dbe44f4dd",
   "metadata": {},
   "outputs": [
    {
     "data": {
      "text/html": [
       "<div>\n",
       "<style scoped>\n",
       "    .dataframe tbody tr th:only-of-type {\n",
       "        vertical-align: middle;\n",
       "    }\n",
       "\n",
       "    .dataframe tbody tr th {\n",
       "        vertical-align: top;\n",
       "    }\n",
       "\n",
       "    .dataframe thead th {\n",
       "        text-align: right;\n",
       "    }\n",
       "</style>\n",
       "<table border=\"1\" class=\"dataframe\">\n",
       "  <thead>\n",
       "    <tr style=\"text-align: right;\">\n",
       "      <th></th>\n",
       "      <th>index</th>\n",
       "      <th>user_id</th>\n",
       "      <th>created_at</th>\n",
       "      <th>country</th>\n",
       "    </tr>\n",
       "  </thead>\n",
       "  <tbody>\n",
       "    <tr>\n",
       "      <th>0</th>\n",
       "      <td>0</td>\n",
       "      <td>2</td>\n",
       "      <td>2015-02-28 16:00:40</td>\n",
       "      <td>China</td>\n",
       "    </tr>\n",
       "    <tr>\n",
       "      <th>1</th>\n",
       "      <td>1</td>\n",
       "      <td>16</td>\n",
       "      <td>2015-02-28 16:05:15</td>\n",
       "      <td>China</td>\n",
       "    </tr>\n",
       "    <tr>\n",
       "      <th>2</th>\n",
       "      <td>2</td>\n",
       "      <td>22</td>\n",
       "      <td>2015-02-28 16:09:56</td>\n",
       "      <td>India</td>\n",
       "    </tr>\n",
       "    <tr>\n",
       "      <th>3</th>\n",
       "      <td>3</td>\n",
       "      <td>37</td>\n",
       "      <td>2015-02-28 16:26:44</td>\n",
       "      <td>Vietnam</td>\n",
       "    </tr>\n",
       "    <tr>\n",
       "      <th>4</th>\n",
       "      <td>4</td>\n",
       "      <td>61</td>\n",
       "      <td>2015-02-28 16:29:57</td>\n",
       "      <td>India</td>\n",
       "    </tr>\n",
       "    <tr>\n",
       "      <th>...</th>\n",
       "      <td>...</td>\n",
       "      <td>...</td>\n",
       "      <td>...</td>\n",
       "      <td>...</td>\n",
       "    </tr>\n",
       "    <tr>\n",
       "      <th>58722</th>\n",
       "      <td>58722</td>\n",
       "      <td>999845</td>\n",
       "      <td>2015-09-29 16:40:56</td>\n",
       "      <td>India</td>\n",
       "    </tr>\n",
       "    <tr>\n",
       "      <th>58723</th>\n",
       "      <td>58723</td>\n",
       "      <td>999896</td>\n",
       "      <td>2015-09-29 16:45:45</td>\n",
       "      <td>India</td>\n",
       "    </tr>\n",
       "    <tr>\n",
       "      <th>58724</th>\n",
       "      <td>58724</td>\n",
       "      <td>999897</td>\n",
       "      <td>2015-09-29 16:48:33</td>\n",
       "      <td>Nigeria</td>\n",
       "    </tr>\n",
       "    <tr>\n",
       "      <th>58725</th>\n",
       "      <td>58725</td>\n",
       "      <td>999913</td>\n",
       "      <td>2015-09-29 16:49:46</td>\n",
       "      <td>Pakistan</td>\n",
       "    </tr>\n",
       "    <tr>\n",
       "      <th>58726</th>\n",
       "      <td>58726</td>\n",
       "      <td>999926</td>\n",
       "      <td>2015-09-29 16:56:16</td>\n",
       "      <td>India</td>\n",
       "    </tr>\n",
       "  </tbody>\n",
       "</table>\n",
       "<p>58727 rows × 4 columns</p>\n",
       "</div>"
      ],
      "text/plain": [
       "       index  user_id           created_at   country\n",
       "0          0        2  2015-02-28 16:00:40     China\n",
       "1          1       16  2015-02-28 16:05:15     China\n",
       "2          2       22  2015-02-28 16:09:56     India\n",
       "3          3       37  2015-02-28 16:26:44   Vietnam\n",
       "4          4       61  2015-02-28 16:29:57     India\n",
       "...      ...      ...                  ...       ...\n",
       "58722  58722   999845  2015-09-29 16:40:56     India\n",
       "58723  58723   999896  2015-09-29 16:45:45     India\n",
       "58724  58724   999897  2015-09-29 16:48:33   Nigeria\n",
       "58725  58725   999913  2015-09-29 16:49:46  Pakistan\n",
       "58726  58726   999926  2015-09-29 16:56:16     India\n",
       "\n",
       "[58727 rows x 4 columns]"
      ]
     },
     "execution_count": 5,
     "metadata": {},
     "output_type": "execute_result"
    }
   ],
   "source": [
    "pd.read_sql('select * from users', conn)"
   ]
  },
  {
   "cell_type": "markdown",
   "id": "53563b39",
   "metadata": {},
   "source": [
    "```sql\n",
    "\n",
    "````"
   ]
  },
  {
   "cell_type": "markdown",
   "id": "4f51792e-0d69-4ccf-a411-66dd1cdf86b0",
   "metadata": {},
   "source": [
    "### Solution"
   ]
  },
  {
   "cell_type": "markdown",
   "id": "069d69cd-a92a-4e2d-b713-0e6e6bb1bf32",
   "metadata": {},
   "source": [
    "<img src=\"./query-group.png\">"
   ]
  },
  {
   "cell_type": "markdown",
   "id": "2a47e121-5d0c-4b8c-9a34-d74051317681",
   "metadata": {},
   "source": [
    "Or"
   ]
  },
  {
   "cell_type": "markdown",
   "id": "95626339-f3f5-4097-a325-c572fe6f8edd",
   "metadata": {},
   "source": [
    "<img src=\"./also.png\" width=\"70%\">"
   ]
  }
 ],
 "metadata": {
  "kernelspec": {
   "display_name": "Python 3.10.6 64-bit",
   "language": "python",
   "name": "python3"
  },
  "language_info": {
   "codemirror_mode": {
    "name": "ipython",
    "version": 3
   },
   "file_extension": ".py",
   "mimetype": "text/x-python",
   "name": "python",
   "nbconvert_exporter": "python",
   "pygments_lexer": "ipython3",
   "version": "3.10.6"
  },
  "vscode": {
   "interpreter": {
    "hash": "b0fa6594d8f4cbf19f97940f81e996739fb7646882a419484c72d19e05852a7e"
   }
  }
 },
 "nbformat": 4,
 "nbformat_minor": 5
}
