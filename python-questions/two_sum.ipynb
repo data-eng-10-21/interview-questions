{
 "cells": [
  {
   "cell_type": "markdown",
   "id": "several-office",
   "metadata": {},
   "source": [
    "# Two Sum Problem"
   ]
  },
  {
   "cell_type": "markdown",
   "id": "confident-hebrew",
   "metadata": {},
   "source": [
    "Given a list of numbers, find every pair of numbers that adds up to a given target."
   ]
  },
  {
   "cell_type": "markdown",
   "id": "royal-evolution",
   "metadata": {},
   "source": [
    "* Example"
   ]
  },
  {
   "cell_type": "code",
   "execution_count": null,
   "id": "breeding-behalf",
   "metadata": {},
   "outputs": [],
   "source": [
    "nums = [1, 2, -2, 5,  -10]\n",
    "target = 3"
   ]
  },
  {
   "cell_type": "code",
   "execution_count": 1,
   "id": "widespread-bachelor",
   "metadata": {},
   "outputs": [],
   "source": [
    "# return value -> [(2, 1), (-2, 5)]"
   ]
  },
  {
   "cell_type": "markdown",
   "id": "22090920-84c4-4e3c-839e-d98265e81dfd",
   "metadata": {},
   "source": [
    "* Begin answering the question in your brain"
   ]
  },
  {
   "cell_type": "markdown",
   "id": "eca4d08d-188e-4a97-bd00-3d9eefda7749",
   "metadata": {},
   "source": [
    "* Then unpack what what your brain is doing\n",
    "\n",
    "> **Write down** the steps\n",
    "\n",
    "> *Consider* can anything be helped by first doing some preprocessing the data (changing to a different data structure (a dictionary) or sorting the data?)\n",
    "\n",
    "* Then translate these steps into code"
   ]
  }
 ],
 "metadata": {
  "kernelspec": {
   "display_name": "Python 3 (ipykernel)",
   "language": "python",
   "name": "python3"
  },
  "language_info": {
   "codemirror_mode": {
    "name": "ipython",
    "version": 3
   },
   "file_extension": ".py",
   "mimetype": "text/x-python",
   "name": "python",
   "nbconvert_exporter": "python",
   "pygments_lexer": "ipython3",
   "version": "3.9.7"
  }
 },
 "nbformat": 4,
 "nbformat_minor": 5
}
