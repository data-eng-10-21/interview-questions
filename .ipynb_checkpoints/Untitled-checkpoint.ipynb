{
 "cells": [
  {
   "cell_type": "code",
   "execution_count": null,
   "id": "6b8b0801-fc0e-4245-bc55-5e24f92137c4",
   "metadata": {},
   "outputs": [],
   "source": []
  },
  {
   "cell_type": "markdown",
   "id": "68da4398-52f7-4221-9829-2ed7dd6ee70a",
   "metadata": {},
   "source": [
    "https://www.geeksforgeeks.org/largest-sum-contiguous-subarray/"
   ]
  },
  {
   "cell_type": "code",
   "execution_count": null,
   "id": "34137c81-1ae2-4b0a-901b-a3eaefd5cb1c",
   "metadata": {},
   "outputs": [],
   "source": []
  }
 ],
 "metadata": {
  "kernelspec": {
   "display_name": "Python 3 (ipykernel)",
   "language": "python",
   "name": "python3"
  },
  "language_info": {
   "codemirror_mode": {
    "name": "ipython",
    "version": 3
   },
   "file_extension": ".py",
   "mimetype": "text/x-python",
   "name": "python",
   "nbconvert_exporter": "python",
   "pygments_lexer": "ipython3",
   "version": "3.9.7"
  }
 },
 "nbformat": 4,
 "nbformat_minor": 5
}
