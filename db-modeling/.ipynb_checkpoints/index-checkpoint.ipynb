{
 "cells": [
  {
   "cell_type": "markdown",
   "id": "dd857b49-8c29-4f7b-8d59-b7ff1bf9173d",
   "metadata": {},
   "source": [
    "### Movie Theater Design"
   ]
  },
  {
   "cell_type": "markdown",
   "id": "110aaee1-8991-4e7f-9c9f-eec7dd5a7f7c",
   "metadata": {},
   "source": [
    "Design a database model for a movie theater reservation system.  Look at the following ticket."
   ]
  },
  {
   "cell_type": "markdown",
   "id": "d9db8820-8fd2-44cc-a54d-f6339c827723",
   "metadata": {},
   "source": [
    "<img src=\"./movie-ticket.png\" width=\"80%\">"
   ]
  }
 ],
 "metadata": {
  "kernelspec": {
   "display_name": "Python 3 (ipykernel)",
   "language": "python",
   "name": "python3"
  },
  "language_info": {
   "codemirror_mode": {
    "name": "ipython",
    "version": 3
   },
   "file_extension": ".py",
   "mimetype": "text/x-python",
   "name": "python",
   "nbconvert_exporter": "python",
   "pygments_lexer": "ipython3",
   "version": "3.9.10"
  }
 },
 "nbformat": 4,
 "nbformat_minor": 5
}
